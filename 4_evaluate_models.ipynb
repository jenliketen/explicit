{
 "cells": [
  {
   "cell_type": "markdown",
   "metadata": {},
   "source": [
    "# NLP: CLASSIFICATION OF SONG LYRICS WITH EXPLICIT CONTENT"
   ]
  },
  {
   "cell_type": "markdown",
   "metadata": {},
   "source": [
    "## Part 4: Model Evaluation"
   ]
  },
  {
   "cell_type": "code",
   "execution_count": 1,
   "metadata": {},
   "outputs": [],
   "source": [
    "import pickle\n",
    "import matplotlib.pyplot as plt\n",
    "%matplotlib inline\n",
    "from src.evaluate import *"
   ]
  },
  {
   "cell_type": "markdown",
   "metadata": {},
   "source": [
    "### Load results"
   ]
  },
  {
   "cell_type": "code",
   "execution_count": 2,
   "metadata": {},
   "outputs": [],
   "source": [
    "file = open(\"./data/X_train.pickle\", \"rb\")\n",
    "X_train = pickle.load(file)\n",
    "file = open(\"./data/X_test.pickle\", \"rb\")\n",
    "X_test = pickle.load(file)\n",
    "file = open(\"./data/y_train.pickle\", \"rb\")\n",
    "y_train = pickle.load(file)\n",
    "file = open(\"./data/y_test.pickle\", \"rb\")\n",
    "y_test = pickle.load(file)\n",
    "\n",
    "file = open(\"./results/models/lr_model.pickle\", \"rb\")\n",
    "lr_model = pickle.load(file)\n",
    "file = file = open(\"./results/models/svm_model.pickle\", \"rb\")\n",
    "svm_model = pickle.load(file)\n",
    "file = open(\"./results/models/rf_model.pickle\", \"rb\")\n",
    "rf_model = pickle.load(file)\n",
    "file = file = open(\"./results/models/gb_model.pickle\", \"rb\")\n",
    "gb_model = pickle.load(file)\n",
    "file = file = open(\"./results/models/nb_model.pickle\", \"rb\")\n",
    "nb_model = pickle.load(file)\n",
    "\n",
    "file = open(\"./results/predictions/lr_train_pred.pickle\", \"rb\")\n",
    "lr_train_pred = pickle.load(file)\n",
    "file = open(\"./results/predictions/svm_train_pred.pickle\", \"rb\")\n",
    "svm_train_pred = pickle.load(file)\n",
    "file = open(\"./results/predictions/rf_train_pred.pickle\", \"rb\")\n",
    "rf_train_pred = pickle.load(file)\n",
    "file = open(\"./results/predictions/gb_train_pred.pickle\", \"rb\")\n",
    "gb_train_pred = pickle.load(file)\n",
    "file = open(\"./results/predictions/nb_train_pred.pickle\", \"rb\")\n",
    "nb_train_pred = pickle.load(file)\n",
    "\n",
    "\n",
    "file = open(\"./results/predictions/lr_test_pred.pickle\", \"rb\")\n",
    "lr_test_pred = pickle.load(file)\n",
    "file = open(\"./results/predictions/svm_test_pred.pickle\", \"rb\")\n",
    "svm_test_pred = pickle.load(file)\n",
    "file = open(\"./results/predictions/rf_test_pred.pickle\", \"rb\")\n",
    "rf_test_pred = pickle.load(file)\n",
    "file = open(\"./results/predictions/gb_test_pred.pickle\", \"rb\")\n",
    "gb_test_pred = pickle.load(file)\n",
    "file = open(\"./results/predictions/nb_test_pred.pickle\", \"rb\")\n",
    "nb_test_pred = pickle.load(file)\n",
    "\n",
    "file = open(\"./results/predictions/rf_fi.pickle\", \"rb\")\n",
    "rf_fi = pickle.load(file)\n",
    "file = open(\"./results/predictions/gb_fi.pickle\", \"rb\")\n",
    "gb_fi = pickle.load(file)"
   ]
  },
  {
   "cell_type": "markdown",
   "metadata": {},
   "source": [
    "### Evaluate models"
   ]
  },
  {
   "cell_type": "markdown",
   "metadata": {},
   "source": [
    "We use 5 different metrics to evaluate model performance: confusion matrix, precision, recall, F1 score, and area under the ROC curve (AUC). We also take a look at the most important features (using Gini importance) determined by our tree-based models to see if they make sense."
   ]
  },
  {
   "cell_type": "markdown",
   "metadata": {},
   "source": [
    "#### Confusion matrix"
   ]
  },
  {
   "cell_type": "markdown",
   "metadata": {},
   "source": [
    "The test set confusion matrix for each model is printed below (we also have training set confusion matrices that you can uncomment and inspect). The logistic regression and linear SVM have produced similar results, with a comparable number of false negative (FN) and false positives (FP). The random forest and gradient boost have produced similar numbers of FNs, but the random forest has a lot more FPs than the gradient boost. This could be because random forests learns from all observations at once, as opposed to learning from mistakes made by previous trees. The na&iuml;ve Bayes model has produced the most number of FNs and FPs.\n",
    "\n",
    "Depending on the purpose of classification, we may need to treat FNs and FPs as equally important and reduce the number of both as much as possible. However, the most common use case of explicit content detection is to prevent certain audiences (_eg_. children) from access explicit materials. Therefore, one may argue that it is spend more of our attention on reducing the number of FNs only. If this is our evaluation criteria, then the random forest gives us the best detection results. However, due to the high (indeed the highest) numbers of FP predictions generated the random forest, we believe the gradient boost is the best model, with only a few (in the single digits) more FNs than the random forest and no FPs whatsoever. Logistic regression and SVM come after the tree-based models, and we confirm our earlier suspicions that na&iuml;ve Bayes is not suited for this problem."
   ]
  },
  {
   "cell_type": "code",
   "execution_count": 3,
   "metadata": {},
   "outputs": [],
   "source": [
    "# Test set confusion matrices\n",
    "lr_cm = make_cm(y_test, lr_test_pred)\n",
    "svm_cm = make_cm(y_test, svm_test_pred)\n",
    "rf_cm = make_cm(y_test, rf_test_pred)\n",
    "gb_cm = make_cm(y_test, gb_test_pred)\n",
    "nb_cm = make_cm(y_test, nb_test_pred)"
   ]
  },
  {
   "cell_type": "code",
   "execution_count": 4,
   "metadata": {},
   "outputs": [
    {
     "data": {
      "text/html": [
       "<div>\n",
       "<style scoped>\n",
       "    .dataframe tbody tr th:only-of-type {\n",
       "        vertical-align: middle;\n",
       "    }\n",
       "\n",
       "    .dataframe tbody tr th {\n",
       "        vertical-align: top;\n",
       "    }\n",
       "\n",
       "    .dataframe thead th {\n",
       "        text-align: right;\n",
       "    }\n",
       "</style>\n",
       "<table border=\"1\" class=\"dataframe\">\n",
       "  <thead>\n",
       "    <tr style=\"text-align: right;\">\n",
       "      <th></th>\n",
       "      <th>actual_clean</th>\n",
       "      <th>actual_explicit</th>\n",
       "    </tr>\n",
       "  </thead>\n",
       "  <tbody>\n",
       "    <tr>\n",
       "      <th>predicted_clean</th>\n",
       "      <td>5568</td>\n",
       "      <td>271</td>\n",
       "    </tr>\n",
       "    <tr>\n",
       "      <th>predicted_explicit</th>\n",
       "      <td>3</td>\n",
       "      <td>5724</td>\n",
       "    </tr>\n",
       "  </tbody>\n",
       "</table>\n",
       "</div>"
      ],
      "text/plain": [
       "                    actual_clean  actual_explicit\n",
       "predicted_clean             5568              271\n",
       "predicted_explicit             3             5724"
      ]
     },
     "execution_count": 4,
     "metadata": {},
     "output_type": "execute_result"
    }
   ],
   "source": [
    "lr_cm"
   ]
  },
  {
   "cell_type": "code",
   "execution_count": 5,
   "metadata": {},
   "outputs": [
    {
     "data": {
      "text/html": [
       "<div>\n",
       "<style scoped>\n",
       "    .dataframe tbody tr th:only-of-type {\n",
       "        vertical-align: middle;\n",
       "    }\n",
       "\n",
       "    .dataframe tbody tr th {\n",
       "        vertical-align: top;\n",
       "    }\n",
       "\n",
       "    .dataframe thead th {\n",
       "        text-align: right;\n",
       "    }\n",
       "</style>\n",
       "<table border=\"1\" class=\"dataframe\">\n",
       "  <thead>\n",
       "    <tr style=\"text-align: right;\">\n",
       "      <th></th>\n",
       "      <th>actual_clean</th>\n",
       "      <th>actual_explicit</th>\n",
       "    </tr>\n",
       "  </thead>\n",
       "  <tbody>\n",
       "    <tr>\n",
       "      <th>predicted_clean</th>\n",
       "      <td>5538</td>\n",
       "      <td>301</td>\n",
       "    </tr>\n",
       "    <tr>\n",
       "      <th>predicted_explicit</th>\n",
       "      <td>4</td>\n",
       "      <td>5723</td>\n",
       "    </tr>\n",
       "  </tbody>\n",
       "</table>\n",
       "</div>"
      ],
      "text/plain": [
       "                    actual_clean  actual_explicit\n",
       "predicted_clean             5538              301\n",
       "predicted_explicit             4             5723"
      ]
     },
     "execution_count": 5,
     "metadata": {},
     "output_type": "execute_result"
    }
   ],
   "source": [
    "svm_cm"
   ]
  },
  {
   "cell_type": "code",
   "execution_count": 6,
   "metadata": {},
   "outputs": [
    {
     "data": {
      "text/html": [
       "<div>\n",
       "<style scoped>\n",
       "    .dataframe tbody tr th:only-of-type {\n",
       "        vertical-align: middle;\n",
       "    }\n",
       "\n",
       "    .dataframe tbody tr th {\n",
       "        vertical-align: top;\n",
       "    }\n",
       "\n",
       "    .dataframe thead th {\n",
       "        text-align: right;\n",
       "    }\n",
       "</style>\n",
       "<table border=\"1\" class=\"dataframe\">\n",
       "  <thead>\n",
       "    <tr style=\"text-align: right;\">\n",
       "      <th></th>\n",
       "      <th>actual_clean</th>\n",
       "      <th>actual_explicit</th>\n",
       "    </tr>\n",
       "  </thead>\n",
       "  <tbody>\n",
       "    <tr>\n",
       "      <th>predicted_clean</th>\n",
       "      <td>5758</td>\n",
       "      <td>81</td>\n",
       "    </tr>\n",
       "    <tr>\n",
       "      <th>predicted_explicit</th>\n",
       "      <td>551</td>\n",
       "      <td>5176</td>\n",
       "    </tr>\n",
       "  </tbody>\n",
       "</table>\n",
       "</div>"
      ],
      "text/plain": [
       "                    actual_clean  actual_explicit\n",
       "predicted_clean             5758               81\n",
       "predicted_explicit           551             5176"
      ]
     },
     "execution_count": 6,
     "metadata": {},
     "output_type": "execute_result"
    }
   ],
   "source": [
    "rf_cm"
   ]
  },
  {
   "cell_type": "code",
   "execution_count": 7,
   "metadata": {},
   "outputs": [
    {
     "data": {
      "text/html": [
       "<div>\n",
       "<style scoped>\n",
       "    .dataframe tbody tr th:only-of-type {\n",
       "        vertical-align: middle;\n",
       "    }\n",
       "\n",
       "    .dataframe tbody tr th {\n",
       "        vertical-align: top;\n",
       "    }\n",
       "\n",
       "    .dataframe thead th {\n",
       "        text-align: right;\n",
       "    }\n",
       "</style>\n",
       "<table border=\"1\" class=\"dataframe\">\n",
       "  <thead>\n",
       "    <tr style=\"text-align: right;\">\n",
       "      <th></th>\n",
       "      <th>actual_clean</th>\n",
       "      <th>actual_explicit</th>\n",
       "    </tr>\n",
       "  </thead>\n",
       "  <tbody>\n",
       "    <tr>\n",
       "      <th>predicted_clean</th>\n",
       "      <td>5751</td>\n",
       "      <td>88</td>\n",
       "    </tr>\n",
       "    <tr>\n",
       "      <th>predicted_explicit</th>\n",
       "      <td>0</td>\n",
       "      <td>5727</td>\n",
       "    </tr>\n",
       "  </tbody>\n",
       "</table>\n",
       "</div>"
      ],
      "text/plain": [
       "                    actual_clean  actual_explicit\n",
       "predicted_clean             5751               88\n",
       "predicted_explicit             0             5727"
      ]
     },
     "execution_count": 7,
     "metadata": {},
     "output_type": "execute_result"
    }
   ],
   "source": [
    "gb_cm"
   ]
  },
  {
   "cell_type": "code",
   "execution_count": 8,
   "metadata": {},
   "outputs": [
    {
     "data": {
      "text/html": [
       "<div>\n",
       "<style scoped>\n",
       "    .dataframe tbody tr th:only-of-type {\n",
       "        vertical-align: middle;\n",
       "    }\n",
       "\n",
       "    .dataframe tbody tr th {\n",
       "        vertical-align: top;\n",
       "    }\n",
       "\n",
       "    .dataframe thead th {\n",
       "        text-align: right;\n",
       "    }\n",
       "</style>\n",
       "<table border=\"1\" class=\"dataframe\">\n",
       "  <thead>\n",
       "    <tr style=\"text-align: right;\">\n",
       "      <th></th>\n",
       "      <th>actual_clean</th>\n",
       "      <th>actual_explicit</th>\n",
       "    </tr>\n",
       "  </thead>\n",
       "  <tbody>\n",
       "    <tr>\n",
       "      <th>predicted_clean</th>\n",
       "      <td>4025</td>\n",
       "      <td>1814</td>\n",
       "    </tr>\n",
       "    <tr>\n",
       "      <th>predicted_explicit</th>\n",
       "      <td>102</td>\n",
       "      <td>5625</td>\n",
       "    </tr>\n",
       "  </tbody>\n",
       "</table>\n",
       "</div>"
      ],
      "text/plain": [
       "                    actual_clean  actual_explicit\n",
       "predicted_clean             4025             1814\n",
       "predicted_explicit           102             5625"
      ]
     },
     "execution_count": 8,
     "metadata": {},
     "output_type": "execute_result"
    }
   ],
   "source": [
    "nb_cm"
   ]
  },
  {
   "cell_type": "code",
   "execution_count": 9,
   "metadata": {},
   "outputs": [],
   "source": [
    "# Training set confusion matrices\n",
    "# lr_cm = make_cm(y_train, lr_train_pred)\n",
    "# svm_cm = make_cm(y_train, svm_train_pred)\n",
    "# rf_cm = make_cm(y_train, rf_train_pred)\n",
    "# gb_cm = make_cm(y_train, gb_train_pred)\n",
    "# nb_cm = make_cm(y_train, nb_train_pred)"
   ]
  },
  {
   "cell_type": "code",
   "execution_count": 10,
   "metadata": {},
   "outputs": [],
   "source": [
    "# lr_cm"
   ]
  },
  {
   "cell_type": "code",
   "execution_count": 11,
   "metadata": {},
   "outputs": [],
   "source": [
    "# svm_cm"
   ]
  },
  {
   "cell_type": "code",
   "execution_count": 12,
   "metadata": {},
   "outputs": [],
   "source": [
    "# rf_cm"
   ]
  },
  {
   "cell_type": "code",
   "execution_count": 13,
   "metadata": {},
   "outputs": [],
   "source": [
    "# gb_cm"
   ]
  },
  {
   "cell_type": "code",
   "execution_count": 14,
   "metadata": {},
   "outputs": [],
   "source": [
    "# nb_cm"
   ]
  },
  {
   "cell_type": "markdown",
   "metadata": {},
   "source": [
    "#### Precision, recall, and F1 score"
   ]
  },
  {
   "cell_type": "markdown",
   "metadata": {},
   "source": [
    "We use precision, recall, and F1 score to better summarize the information from the confusion matrices. The test scores show that the gradient boost has the best overall performance, and that the na&iuml;ve Bayes has the worst. This is consistent with our analysis using the confusion matrices."
   ]
  },
  {
   "cell_type": "code",
   "execution_count": 15,
   "metadata": {},
   "outputs": [
    {
     "data": {
      "text/html": [
       "<div>\n",
       "<style scoped>\n",
       "    .dataframe tbody tr th:only-of-type {\n",
       "        vertical-align: middle;\n",
       "    }\n",
       "\n",
       "    .dataframe tbody tr th {\n",
       "        vertical-align: top;\n",
       "    }\n",
       "\n",
       "    .dataframe thead th {\n",
       "        text-align: right;\n",
       "    }\n",
       "</style>\n",
       "<table border=\"1\" class=\"dataframe\">\n",
       "  <thead>\n",
       "    <tr style=\"text-align: right;\">\n",
       "      <th></th>\n",
       "      <th>precision_test</th>\n",
       "      <th>recall_test</th>\n",
       "      <th>f1_test</th>\n",
       "      <th>precision_train</th>\n",
       "      <th>recall_train</th>\n",
       "      <th>f1_train</th>\n",
       "    </tr>\n",
       "  </thead>\n",
       "  <tbody>\n",
       "    <tr>\n",
       "      <th>logistic_regression</th>\n",
       "      <td>0.954796</td>\n",
       "      <td>0.999476</td>\n",
       "      <td>0.976625</td>\n",
       "      <td>0.988133</td>\n",
       "      <td>0.999885</td>\n",
       "      <td>0.993974</td>\n",
       "    </tr>\n",
       "    <tr>\n",
       "      <th>linear_svm</th>\n",
       "      <td>0.950033</td>\n",
       "      <td>0.999302</td>\n",
       "      <td>0.974045</td>\n",
       "      <td>1.000000</td>\n",
       "      <td>0.998449</td>\n",
       "      <td>0.999224</td>\n",
       "    </tr>\n",
       "    <tr>\n",
       "      <th>random_forest</th>\n",
       "      <td>0.984592</td>\n",
       "      <td>0.903789</td>\n",
       "      <td>0.942462</td>\n",
       "      <td>0.998553</td>\n",
       "      <td>0.911864</td>\n",
       "      <td>0.953242</td>\n",
       "    </tr>\n",
       "    <tr>\n",
       "      <th>gradient_boost</th>\n",
       "      <td>0.984867</td>\n",
       "      <td>1.000000</td>\n",
       "      <td>0.992376</td>\n",
       "      <td>1.000000</td>\n",
       "      <td>1.000000</td>\n",
       "      <td>1.000000</td>\n",
       "    </tr>\n",
       "    <tr>\n",
       "      <th>naive_bayes</th>\n",
       "      <td>0.756150</td>\n",
       "      <td>0.982190</td>\n",
       "      <td>0.854474</td>\n",
       "      <td>0.768635</td>\n",
       "      <td>0.985866</td>\n",
       "      <td>0.863802</td>\n",
       "    </tr>\n",
       "  </tbody>\n",
       "</table>\n",
       "</div>"
      ],
      "text/plain": [
       "                     precision_test  recall_test   f1_test  precision_train  \\\n",
       "logistic_regression        0.954796     0.999476  0.976625         0.988133   \n",
       "linear_svm                 0.950033     0.999302  0.974045         1.000000   \n",
       "random_forest              0.984592     0.903789  0.942462         0.998553   \n",
       " gradient_boost            0.984867     1.000000  0.992376         1.000000   \n",
       "naive_bayes                0.756150     0.982190  0.854474         0.768635   \n",
       "\n",
       "                     recall_train  f1_train  \n",
       "logistic_regression      0.999885  0.993974  \n",
       "linear_svm               0.998449  0.999224  \n",
       "random_forest            0.911864  0.953242  \n",
       " gradient_boost          1.000000  1.000000  \n",
       "naive_bayes              0.985866  0.863802  "
      ]
     },
     "execution_count": 15,
     "metadata": {},
     "output_type": "execute_result"
    }
   ],
   "source": [
    "train = [lr_train_pred, svm_train_pred, rf_train_pred, gb_train_pred, nb_train_pred]\n",
    "test = [lr_test_pred, svm_test_pred, rf_test_pred, gb_test_pred, nb_test_pred]\n",
    "make_summary(y_train, y_test, train, test)"
   ]
  },
  {
   "cell_type": "markdown",
   "metadata": {},
   "source": [
    "#### ROC and AUC"
   ]
  },
  {
   "cell_type": "markdown",
   "metadata": {},
   "source": [
    "We overlay the ROC curves for all of the models and compute their AUC. Compared to the other performance metrics, it is not very obvious which model is the best judging by the AUC, as most of them fall in the 0.99 - 1 range (but these are still very promising numbers!). However, we can still see from the ROC curves that the gradient boost performs best, while the na&iuml;ve Bayes performs the worst."
   ]
  },
  {
   "cell_type": "code",
   "execution_count": 16,
   "metadata": {},
   "outputs": [
    {
     "data": {
      "image/png": "[encoded data removed]",
      "text/plain": [
       "<Figure size 720x360 with 2 Axes>"
      ]
     },
     "metadata": {
      "needs_background": "light"
     },
     "output_type": "display_data"
    }
   ],
   "source": [
    "models = [lr_model, svm_model, rf_model, gb_model, nb_model]\n",
    "names = [\"Logistic regression\", \"Linear SVM\",\n",
    "         \"Random forest\", \"Gradient boost\",\n",
    "         \"Naive Bayes\"]\n",
    "get_roc_auc(models, names, X_train, X_test, y_train, y_test)"
   ]
  },
  {
   "cell_type": "markdown",
   "metadata": {},
   "source": [
    "### Feature importance"
   ]
  },
  {
   "cell_type": "markdown",
   "metadata": {},
   "source": [
    "Both the random forest and gradient boost have identified most of the profanities as the most important words! Additionally, `word_count`, `unique_word_count`, and `sentiment` are also importance features. These features again confirm our earlier propositions about what our classifiers would consider as distinguishing features."
   ]
  },
  {
   "cell_type": "code",
   "execution_count": 17,
   "metadata": {},
   "outputs": [
    {
     "data": {
      "text/plain": [
       "{'fuck': 0.09,\n",
       " 'shit': 0.05,\n",
       " 'word_count': 0.04,\n",
       " 'unique_word_count': 0.04,\n",
       " 'bitch': 0.03,\n",
       " 'nigga': 0.03,\n",
       " 'sentiment': 0.02,\n",
       " 'fuckin': 0.02,\n",
       " 'back': 0.01,\n",
       " 'damn': 0.01,\n",
       " 'dick': 0.01,\n",
       " 'gon': 0.01,\n",
       " 'hate': 0.01,\n",
       " 'heart': 0.01,\n",
       " 'hit': 0.01,\n",
       " 'hoe': 0.01,\n",
       " 'kill': 0.01,\n",
       " 'love': 0.01,\n",
       " 'money': 0.01,\n",
       " 'motherfucker': 0.01,\n",
       " 'put': 0.01,\n",
       " 'rap': 0.01,\n",
       " 'want': 0.01,\n",
       " 'yo': 0.01}"
      ]
     },
     "execution_count": 17,
     "metadata": {},
     "output_type": "execute_result"
    }
   ],
   "source": [
    "{k:v for (k, v) in rf_fi.items() if v > 0}"
   ]
  },
  {
   "cell_type": "code",
   "execution_count": 18,
   "metadata": {},
   "outputs": [
    {
     "data": {
      "text/plain": [
       "{'unique_word_count': 0.06,\n",
       " 'fuck': 0.06,\n",
       " 'word_count': 0.05,\n",
       " 'shit': 0.04,\n",
       " 'bitch': 0.03,\n",
       " 'sentiment': 0.02,\n",
       " 'put': 0.02,\n",
       " 'bout': 0.01,\n",
       " 'damn': 0.01,\n",
       " 'dream': 0.01,\n",
       " 'fuckin': 0.01,\n",
       " 'god': 0.01,\n",
       " 'gon': 0.01,\n",
       " 'hate': 0.01,\n",
       " 'love': 0.01,\n",
       " 'money': 0.01,\n",
       " 'motherfucker': 0.01,\n",
       " 'nigga': 0.01,\n",
       " 'suck': 0.01,\n",
       " 'want': 0.01}"
      ]
     },
     "execution_count": 18,
     "metadata": {},
     "output_type": "execute_result"
    }
   ],
   "source": [
    "{k:v for (k, v) in gb_fi.items() if v > 0}"
   ]
  },
  {
   "cell_type": "markdown",
   "metadata": {},
   "source": [
    "### Conclusion"
   ]
  },
  {
   "cell_type": "markdown",
   "metadata": {},
   "source": [
    "Detecting explicit songs will become increasingly important as more music starts to live online. We have a responsibility to ensure that songs are distributed to appropriate audiences. Our classification models have proven to be highly effective at this task, with gradient boost being the absolute best out of all."
   ]
  }
 ],
 "metadata": {
  "kernelspec": {
   "display_name": "Python 3",
   "language": "python",
   "name": "python3"
  },
  "language_info": {
   "codemirror_mode": {
    "name": "ipython",
    "version": 3
   },
   "file_extension": ".py",
   "mimetype": "text/x-python",
   "name": "python",
   "nbconvert_exporter": "python",
   "pygments_lexer": "ipython3",
   "version": "3.7.6"
  }
 },
 "nbformat": 4,
 "nbformat_minor": 4
}
