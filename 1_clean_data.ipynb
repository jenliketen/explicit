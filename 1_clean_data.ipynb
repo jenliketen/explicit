{
 "cells": [
  {
   "cell_type": "markdown",
   "metadata": {},
   "source": [
    "# NLP: CLASSIFICATION OF SONG LYRICS WITH EXPLICIT CONTENT"
   ]
  },
  {
   "cell_type": "markdown",
   "metadata": {},
   "source": [
    "## Part 1: Lyrics Preprocessing"
   ]
  },
  {
   "cell_type": "code",
   "execution_count": 1,
   "metadata": {},
   "outputs": [],
   "source": [
    "import pandas as pd\n",
    "import fasttext\n",
    "from src.preprocess import *\n",
    "import warnings\n",
    "warnings.filterwarnings(\"ignore\")"
   ]
  },
  {
   "cell_type": "markdown",
   "metadata": {},
   "source": [
    "### Load dataset"
   ]
  },
  {
   "cell_type": "markdown",
   "metadata": {},
   "source": [
    "The dataset was found from [Kaggle](https://www.kaggle.com/mousehead/songlyrics), but it seems like it has been removed now."
   ]
  },
  {
   "cell_type": "code",
   "execution_count": 2,
   "metadata": {},
   "outputs": [
    {
     "data": {
      "text/html": [
       "<div>\n",
       "<style scoped>\n",
       "    .dataframe tbody tr th:only-of-type {\n",
       "        vertical-align: middle;\n",
       "    }\n",
       "\n",
       "    .dataframe tbody tr th {\n",
       "        vertical-align: top;\n",
       "    }\n",
       "\n",
       "    .dataframe thead th {\n",
       "        text-align: right;\n",
       "    }\n",
       "</style>\n",
       "<table border=\"1\" class=\"dataframe\">\n",
       "  <thead>\n",
       "    <tr style=\"text-align: right;\">\n",
       "      <th></th>\n",
       "      <th>artist</th>\n",
       "      <th>song</th>\n",
       "      <th>link</th>\n",
       "      <th>text</th>\n",
       "      <th>explicit_label</th>\n",
       "    </tr>\n",
       "  </thead>\n",
       "  <tbody>\n",
       "    <tr>\n",
       "      <th>0</th>\n",
       "      <td>ABBA</td>\n",
       "      <td>Ahe's My Kind Of Girl</td>\n",
       "      <td>/a/abba/ahes+my+kind+of+girl_20598417.html</td>\n",
       "      <td>Look at her face, it's a wonderful face  \\nAnd...</td>\n",
       "      <td>no match</td>\n",
       "    </tr>\n",
       "    <tr>\n",
       "      <th>1</th>\n",
       "      <td>ABBA</td>\n",
       "      <td>Andante, Andante</td>\n",
       "      <td>/a/abba/andante+andante_20002708.html</td>\n",
       "      <td>Take it easy with me, please  \\nTouch me gentl...</td>\n",
       "      <td>FALSE</td>\n",
       "    </tr>\n",
       "    <tr>\n",
       "      <th>2</th>\n",
       "      <td>ABBA</td>\n",
       "      <td>As Good As New</td>\n",
       "      <td>/a/abba/as+good+as+new_20003033.html</td>\n",
       "      <td>I'll never know why I had to go  \\nWhy I had t...</td>\n",
       "      <td>FALSE</td>\n",
       "    </tr>\n",
       "    <tr>\n",
       "      <th>3</th>\n",
       "      <td>ABBA</td>\n",
       "      <td>Bang</td>\n",
       "      <td>/a/abba/bang_20598415.html</td>\n",
       "      <td>Making somebody happy is a question of give an...</td>\n",
       "      <td>no match</td>\n",
       "    </tr>\n",
       "    <tr>\n",
       "      <th>4</th>\n",
       "      <td>ABBA</td>\n",
       "      <td>Bang-A-Boomerang</td>\n",
       "      <td>/a/abba/bang+a+boomerang_20002668.html</td>\n",
       "      <td>Making somebody happy is a question of give an...</td>\n",
       "      <td>FALSE</td>\n",
       "    </tr>\n",
       "  </tbody>\n",
       "</table>\n",
       "</div>"
      ],
      "text/plain": [
       "  artist                   song                                        link  \\\n",
       "0   ABBA  Ahe's My Kind Of Girl  /a/abba/ahes+my+kind+of+girl_20598417.html   \n",
       "1   ABBA       Andante, Andante       /a/abba/andante+andante_20002708.html   \n",
       "2   ABBA         As Good As New        /a/abba/as+good+as+new_20003033.html   \n",
       "3   ABBA                   Bang                  /a/abba/bang_20598415.html   \n",
       "4   ABBA       Bang-A-Boomerang      /a/abba/bang+a+boomerang_20002668.html   \n",
       "\n",
       "                                                text explicit_label  \n",
       "0  Look at her face, it's a wonderful face  \\nAnd...       no match  \n",
       "1  Take it easy with me, please  \\nTouch me gentl...          FALSE  \n",
       "2  I'll never know why I had to go  \\nWhy I had t...          FALSE  \n",
       "3  Making somebody happy is a question of give an...       no match  \n",
       "4  Making somebody happy is a question of give an...          FALSE  "
      ]
     },
     "execution_count": 2,
     "metadata": {},
     "output_type": "execute_result"
    }
   ],
   "source": [
    "data = pd.read_csv(\"./data/raw_data.csv\")\n",
    "data.drop(\"Unnamed: 0\", axis=1, inplace=True)\n",
    "data.head()"
   ]
  },
  {
   "cell_type": "markdown",
   "metadata": {},
   "source": [
    "The raw data has 57,650 rows and 5 columns. We also have no missing data (yay!)."
   ]
  },
  {
   "cell_type": "code",
   "execution_count": 3,
   "metadata": {},
   "outputs": [
    {
     "name": "stdout",
     "output_type": "stream",
     "text": [
      "(57650, 5)\n"
     ]
    },
    {
     "data": {
      "text/plain": [
       "artist            0\n",
       "song              0\n",
       "link              0\n",
       "text              0\n",
       "explicit_label    0\n",
       "dtype: int64"
      ]
     },
     "execution_count": 3,
     "metadata": {},
     "output_type": "execute_result"
    }
   ],
   "source": [
    "print(data.shape)\n",
    "data.isnull().sum()"
   ]
  },
  {
   "cell_type": "markdown",
   "metadata": {},
   "source": [
    "### Clean dataset"
   ]
  },
  {
   "cell_type": "markdown",
   "metadata": {},
   "source": [
    "First, we remove the `link` column and rows with `no_match` in the `explicit_label` column. This removes more than half of the songs we started with."
   ]
  },
  {
   "cell_type": "code",
   "execution_count": 4,
   "metadata": {},
   "outputs": [
    {
     "data": {
      "text/plain": [
       "(24676, 4)"
      ]
     },
     "execution_count": 4,
     "metadata": {},
     "output_type": "execute_result"
    }
   ],
   "source": [
    "# Drop columns and rows\n",
    "data.drop(\"link\", inplace=True, axis=1)\n",
    "data = data[data[\"explicit_label\"] != \"no match\"]\n",
    "data.shape"
   ]
  },
  {
   "cell_type": "markdown",
   "metadata": {},
   "source": [
    "Next, we remove non-English songs as well as lives and remixes of a song. I wrote the function for removing non-English songs here because `lid.176.ftz` gives me permission errors when I tried to include it in the source code. Doing this removes another ~200 songs."
   ]
  },
  {
   "cell_type": "code",
   "execution_count": 5,
   "metadata": {},
   "outputs": [
    {
     "name": "stderr",
     "output_type": "stream",
     "text": [
      "Warning : `load_model` does not return WordVectorModel or SupervisedModel any more, but a `FastText` object which is very similar.\n"
     ]
    },
    {
     "data": {
      "text/plain": [
       "(24482, 5)"
      ]
     },
     "execution_count": 5,
     "metadata": {},
     "output_type": "execute_result"
    }
   ],
   "source": [
    "# Remove non-English songs\n",
    "def keep_english(df):\n",
    "    pretrained_model = \"lid.176.ftz\"\n",
    "    model = fasttext.load_model(pretrained_model)\n",
    "    language = []\n",
    "    for word in df[\"text\"]:\n",
    "        word = word.replace(\"\\n\", \"\")\n",
    "        l = model.predict(word)[0]\n",
    "        language.append(str(l)[11:13])\n",
    "    df[\"language\"] = language\n",
    "    df = df[df[\"language\"] == \"en\"]\n",
    "    return df\n",
    "\n",
    "data = keep_english(data)\n",
    "\n",
    "# Remove lives and remixes\n",
    "data = data[~data[\"song\"].str.contains(\"\\[Live\\]\")]\n",
    "data = data[~data[\"song\"].str.contains(\"\\(Live\\)\")]\n",
    "data = data[~data[\"song\"].str.contains(\"Remix\")]\n",
    "data.shape"
   ]
  },
  {
   "cell_type": "markdown",
   "metadata": {},
   "source": [
    "We convert binary labels to `1` and `0` for later use."
   ]
  },
  {
   "cell_type": "code",
   "execution_count": 6,
   "metadata": {},
   "outputs": [
    {
     "data": {
      "text/html": [
       "<div>\n",
       "<style scoped>\n",
       "    .dataframe tbody tr th:only-of-type {\n",
       "        vertical-align: middle;\n",
       "    }\n",
       "\n",
       "    .dataframe tbody tr th {\n",
       "        vertical-align: top;\n",
       "    }\n",
       "\n",
       "    .dataframe thead th {\n",
       "        text-align: right;\n",
       "    }\n",
       "</style>\n",
       "<table border=\"1\" class=\"dataframe\">\n",
       "  <thead>\n",
       "    <tr style=\"text-align: right;\">\n",
       "      <th></th>\n",
       "      <th>artist</th>\n",
       "      <th>song</th>\n",
       "      <th>text</th>\n",
       "      <th>explicit_label</th>\n",
       "      <th>language</th>\n",
       "    </tr>\n",
       "  </thead>\n",
       "  <tbody>\n",
       "    <tr>\n",
       "      <th>1</th>\n",
       "      <td>ABBA</td>\n",
       "      <td>Andante, Andante</td>\n",
       "      <td>Take it easy with me, please  \\nTouch me gentl...</td>\n",
       "      <td>0</td>\n",
       "      <td>en</td>\n",
       "    </tr>\n",
       "    <tr>\n",
       "      <th>2</th>\n",
       "      <td>ABBA</td>\n",
       "      <td>As Good As New</td>\n",
       "      <td>I'll never know why I had to go  \\nWhy I had t...</td>\n",
       "      <td>0</td>\n",
       "      <td>en</td>\n",
       "    </tr>\n",
       "    <tr>\n",
       "      <th>4</th>\n",
       "      <td>ABBA</td>\n",
       "      <td>Bang-A-Boomerang</td>\n",
       "      <td>Making somebody happy is a question of give an...</td>\n",
       "      <td>0</td>\n",
       "      <td>en</td>\n",
       "    </tr>\n",
       "    <tr>\n",
       "      <th>7</th>\n",
       "      <td>ABBA</td>\n",
       "      <td>Chiquitita</td>\n",
       "      <td>Chiquitita, tell me what's wrong  \\nYou're enc...</td>\n",
       "      <td>0</td>\n",
       "      <td>en</td>\n",
       "    </tr>\n",
       "    <tr>\n",
       "      <th>11</th>\n",
       "      <td>ABBA</td>\n",
       "      <td>Dancing Queen</td>\n",
       "      <td>You can dance, you can jive, having the time o...</td>\n",
       "      <td>0</td>\n",
       "      <td>en</td>\n",
       "    </tr>\n",
       "  </tbody>\n",
       "</table>\n",
       "</div>"
      ],
      "text/plain": [
       "   artist              song  \\\n",
       "1    ABBA  Andante, Andante   \n",
       "2    ABBA    As Good As New   \n",
       "4    ABBA  Bang-A-Boomerang   \n",
       "7    ABBA        Chiquitita   \n",
       "11   ABBA     Dancing Queen   \n",
       "\n",
       "                                                 text explicit_label language  \n",
       "1   Take it easy with me, please  \\nTouch me gentl...              0       en  \n",
       "2   I'll never know why I had to go  \\nWhy I had t...              0       en  \n",
       "4   Making somebody happy is a question of give an...              0       en  \n",
       "7   Chiquitita, tell me what's wrong  \\nYou're enc...              0       en  \n",
       "11  You can dance, you can jive, having the time o...              0       en  "
      ]
     },
     "execution_count": 6,
     "metadata": {},
     "output_type": "execute_result"
    }
   ],
   "source": [
    "# Convert labels\n",
    "data.loc[data[\"explicit_label\"] == \"TRUE\", [\"explicit_label\"]] = 1\n",
    "data.loc[data[\"explicit_label\"] == \"FALSE\", [\"explicit_label\"]] = 0\n",
    "data.head()"
   ]
  },
  {
   "cell_type": "markdown",
   "metadata": {},
   "source": [
    "Now, we make the lyrics analysis-friendly as follows:\n",
    "* Tokenize lyric string into a list of words\n",
    "* Make everything lower-case\n",
    "* Replace line break (`\\n`) with space (` `) Remove punctuation marks\n",
    "* Remove digits\n",
    "* Expand contractions\n",
    "* Replace multiple spaces with a single space\n",
    "* Remove stopwords\n",
    "* Remove hyperlinks (if any)\n",
    "* Remove `&gt;` (if any)\n",
    "* Remove emojis (if any)"
   ]
  },
  {
   "cell_type": "code",
   "execution_count": 7,
   "metadata": {},
   "outputs": [],
   "source": [
    "path = \"./data\"\n",
    "prep_lyrics(data, path)"
   ]
  },
  {
   "cell_type": "markdown",
   "metadata": {},
   "source": [
    "### Lemmatize"
   ]
  },
  {
   "cell_type": "markdown",
   "metadata": {},
   "source": [
    "After preparing the lyrics, we now lemmatize the words to reduce them to their root words. We start by assigning parts of speech to the words."
   ]
  },
  {
   "cell_type": "code",
   "execution_count": 8,
   "metadata": {},
   "outputs": [
    {
     "data": {
      "text/html": [
       "<div>\n",
       "<style scoped>\n",
       "    .dataframe tbody tr th:only-of-type {\n",
       "        vertical-align: middle;\n",
       "    }\n",
       "\n",
       "    .dataframe tbody tr th {\n",
       "        vertical-align: top;\n",
       "    }\n",
       "\n",
       "    .dataframe thead th {\n",
       "        text-align: right;\n",
       "    }\n",
       "</style>\n",
       "<table border=\"1\" class=\"dataframe\">\n",
       "  <thead>\n",
       "    <tr style=\"text-align: right;\">\n",
       "      <th></th>\n",
       "      <th>artist</th>\n",
       "      <th>song</th>\n",
       "      <th>text</th>\n",
       "      <th>explicit_label</th>\n",
       "      <th>language</th>\n",
       "      <th>prepped_lyrics</th>\n",
       "      <th>lemmatized</th>\n",
       "      <th>unique_words</th>\n",
       "    </tr>\n",
       "  </thead>\n",
       "  <tbody>\n",
       "    <tr>\n",
       "      <th>0</th>\n",
       "      <td>ABBA</td>\n",
       "      <td>Andante, Andante</td>\n",
       "      <td>Take it easy with me, please  \\nTouch me gentl...</td>\n",
       "      <td>0</td>\n",
       "      <td>en</td>\n",
       "      <td>[take, easy, please, touch, gently, summer, ev...</td>\n",
       "      <td>[take, easy, please, touch, gently, summer, ev...</td>\n",
       "      <td>[thousand, butterfly, slow, night, soul, body,...</td>\n",
       "    </tr>\n",
       "    <tr>\n",
       "      <th>1</th>\n",
       "      <td>ABBA</td>\n",
       "      <td>As Good As New</td>\n",
       "      <td>I'll never know why I had to go  \\nWhy I had t...</td>\n",
       "      <td>0</td>\n",
       "      <td>en</td>\n",
       "      <td>[never, know, go, put, lousy, rotten, show, bo...</td>\n",
       "      <td>[never, know, go, put, lousy, rotten, show, bo...</td>\n",
       "      <td>[take, say, found, another, way, know, thank, ...</td>\n",
       "    </tr>\n",
       "    <tr>\n",
       "      <th>2</th>\n",
       "      <td>ABBA</td>\n",
       "      <td>Bang-A-Boomerang</td>\n",
       "      <td>Making somebody happy is a question of give an...</td>\n",
       "      <td>0</td>\n",
       "      <td>en</td>\n",
       "      <td>[making, somebody, happy, question, give, take...</td>\n",
       "      <td>[make, somebody, happy, question, give, take, ...</td>\n",
       "      <td>[show, tool, boomerang, throw, found, boom, kn...</td>\n",
       "    </tr>\n",
       "    <tr>\n",
       "      <th>3</th>\n",
       "      <td>ABBA</td>\n",
       "      <td>Chiquitita</td>\n",
       "      <td>Chiquitita, tell me what's wrong  \\nYou're enc...</td>\n",
       "      <td>0</td>\n",
       "      <td>en</td>\n",
       "      <td>[chiquitita, tell, wrong, enchained, sorrow, e...</td>\n",
       "      <td>[chiquitita, tell, wrong, enchain, sorrow, eye...</td>\n",
       "      <td>[shoulder, cry, candle, feather, best, way, so...</td>\n",
       "    </tr>\n",
       "    <tr>\n",
       "      <th>4</th>\n",
       "      <td>ABBA</td>\n",
       "      <td>Dancing Queen</td>\n",
       "      <td>You can dance, you can jive, having the time o...</td>\n",
       "      <td>0</td>\n",
       "      <td>en</td>\n",
       "      <td>[dance, jive, time, life, see, girl, watch, sc...</td>\n",
       "      <td>[dance, jive, time, life, see, girl, watch, sc...</td>\n",
       "      <td>[light, teaser, leave, night, another, dance, ...</td>\n",
       "    </tr>\n",
       "  </tbody>\n",
       "</table>\n",
       "</div>"
      ],
      "text/plain": [
       "  artist              song                                               text  \\\n",
       "0   ABBA  Andante, Andante  Take it easy with me, please  \\nTouch me gentl...   \n",
       "1   ABBA    As Good As New  I'll never know why I had to go  \\nWhy I had t...   \n",
       "2   ABBA  Bang-A-Boomerang  Making somebody happy is a question of give an...   \n",
       "3   ABBA        Chiquitita  Chiquitita, tell me what's wrong  \\nYou're enc...   \n",
       "4   ABBA     Dancing Queen  You can dance, you can jive, having the time o...   \n",
       "\n",
       "   explicit_label language                                     prepped_lyrics  \\\n",
       "0               0       en  [take, easy, please, touch, gently, summer, ev...   \n",
       "1               0       en  [never, know, go, put, lousy, rotten, show, bo...   \n",
       "2               0       en  [making, somebody, happy, question, give, take...   \n",
       "3               0       en  [chiquitita, tell, wrong, enchained, sorrow, e...   \n",
       "4               0       en  [dance, jive, time, life, see, girl, watch, sc...   \n",
       "\n",
       "                                          lemmatized  \\\n",
       "0  [take, easy, please, touch, gently, summer, ev...   \n",
       "1  [never, know, go, put, lousy, rotten, show, bo...   \n",
       "2  [make, somebody, happy, question, give, take, ...   \n",
       "3  [chiquitita, tell, wrong, enchain, sorrow, eye...   \n",
       "4  [dance, jive, time, life, see, girl, watch, sc...   \n",
       "\n",
       "                                        unique_words  \n",
       "0  [thousand, butterfly, slow, night, soul, body,...  \n",
       "1  [take, say, found, another, way, know, thank, ...  \n",
       "2  [show, tool, boomerang, throw, found, boom, kn...  \n",
       "3  [shoulder, cry, candle, feather, best, way, so...  \n",
       "4  [light, teaser, leave, night, another, dance, ...  "
      ]
     },
     "execution_count": 8,
     "metadata": {},
     "output_type": "execute_result"
    }
   ],
   "source": [
    "# Load data and lemmatize\n",
    "data = pd.read_csv(\"./data/data.csv\")\n",
    "lemmatize(data, path)\n",
    "\n",
    "# Take a look!\n",
    "data = pd.read_csv(\"./data/data.csv\", converters={\"prepped_lyrics\": eval,\n",
    "                                                  \"lemmatized\": eval,\n",
    "                                                  \"unique_words\": eval})\n",
    "data.head()"
   ]
  },
  {
   "cell_type": "markdown",
   "metadata": {},
   "source": [
    "Now, our data is ready for exploratory data analysis (EDA) and modeling!"
   ]
  }
 ],
 "metadata": {
  "kernelspec": {
   "display_name": "Python 3",
   "language": "python",
   "name": "python3"
  },
  "language_info": {
   "codemirror_mode": {
    "name": "ipython",
    "version": 3
   },
   "file_extension": ".py",
   "mimetype": "text/x-python",
   "name": "python",
   "nbconvert_exporter": "python",
   "pygments_lexer": "ipython3",
   "version": "3.7.6"
  }
 },
 "nbformat": 4,
 "nbformat_minor": 4
}
